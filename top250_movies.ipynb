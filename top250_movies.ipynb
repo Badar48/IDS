{
 "cells": [
  {
   "cell_type": "code",
   "execution_count": 1,
   "id": "552d3a53-9971-4633-baa6-171be196fcea",
   "metadata": {},
   "outputs": [
    {
     "name": "stdout",
     "output_type": "stream",
     "text": [
      "Data has been successfully scraped and saved to imdb_top250.csv\n"
     ]
    }
   ],
   "source": [
    "from bs4 import BeautifulSoup\n",
    "import request\n",
    "import csv\n",
    "\n",
    "\n",
    "def scrape_imdb_top250(url):\n",
    "    headers = {\n",
    "        'User-Agent': 'Mozilla/5.0 (Windows NT 10.0; Win64; x64) AppleWebKit/537.36 (KHTML, like Gecko) Chrome/58.0.3029.110 Safari/537.3'}\n",
    "    response = requests.get(url, headers=headers)\n",
    "    if response.status_code == 200:\n",
    "        soup = BeautifulSoup(response.content, 'html.parser')\n",
    "        movies_data = []\n",
    "\n",
    "        movie_containers = soup.find_all('div', class_='sc-b0691f29-0 jbYPfh cli-children')\n",
    "\n",
    "        for container in movie_containers:\n",
    "          \n",
    "            title = container.find('h3', class_='ipc-title__text').text.strip()\n",
    "\n",
    "      \n",
    "            year = container.find('span', class_='sc-b0691f29-8 ilsLEX cli-title-metadata-item').text.strip()\n",
    "\n",
    "      \n",
    "            duration = container.find_all('span', class_='sc-b0691f29-8 ilsLEX cli-title-metadata-item')[1].text.strip()\n",
    "\n",
    "            \n",
    "            rating_element = container.find('span', class_='ipc-rating-star ipc-rating-star--base ipc-rating-star--imdb ratingGroup--imdb-rating')\n",
    "            rating = rating_element.text.strip() if rating_element else None\n",
    "\n",
    "            # Append movie data to list\n",
    "            movies_data.append([title, year, duration, rating])\n",
    "\n",
    "        return movies_data\n",
    "    else:\n",
    "        print(\"Error:\", response.status_code)\n",
    "        return None\n",
    "\n",
    "url = \"https://www.imdb.com/chart/top/\"\n",
    "top250_movies = scrape_imdb_top250(url)\n",
    "\n",
    "if top250_movies:\n",
    "    with open('imdb_top250.csv', 'w', newline='', encoding='utf-8') as csvfile:\n",
    "        writer = csv.writer(csvfile)\n",
    "        writer.writerow(['Title', 'Year', 'Duration', 'IMDB Rating'])\n",
    "        writer.writerows(top250_movies)\n",
    "    print(\"Data has been successfully scraped and saved to imdb_top250.csv\")\n",
    "else:\n",
    "    print(\"Failed to scrape data. Please check the URL or try again later.\")\n"
   ]
  },
  {
   "cell_type": "code",
   "execution_count": null,
   "id": "ae0f2297-1e2c-4ed3-8d39-6719dc2a0eb8",
   "metadata": {},
   "outputs": [],
   "source": []
  }
 ],
 "metadata": {
  "kernelspec": {
   "display_name": "Python 3 (ipykernel)",
   "language": "python",
   "name": "python3"
  },
  "language_info": {
   "codemirror_mode": {
    "name": "ipython",
    "version": 3
   },
   "file_extension": ".py",
   "mimetype": "text/x-python",
   "name": "python",
   "nbconvert_exporter": "python",
   "pygments_lexer": "ipython3",
   "version": "3.11.7"
  }
 },
 "nbformat": 4,
 "nbformat_minor": 5
}
