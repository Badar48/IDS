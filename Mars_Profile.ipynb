# Date: 11 March, 2024
# CSC461 – Assignment1 – IDS – Web Scraping
# Badar Munir
# Sp20-Bse-068
# It fetches the the complete mars profile, and then saving in excel file.


{
 "cells": [
  {
   "cell_type": "code",
   "execution_count": 28,
   "id": "a68c5057-7c2d-4240-8d7a-b47c0a4f9755",
   "metadata": {},
   "outputs": [
    {
     "name": "stdout",
     "output_type": "stream",
     "text": [
      "Heading: Equatorial Diameter:\n",
      "Data: 6,792 km\n",
      "Heading: Polar Diameter:\n",
      "Data: 6,752 km\n",
      "Heading: Mass:\n",
      "Data: 6.39 × 10^23 kg\n",
      "(0.11 Earths)\n",
      "Heading: Moons:\n",
      "Data: 2 (Phobos & Deimos)\n",
      "Heading: Orbit Distance:\n",
      "Data: 227,943,824 km\n",
      "(1.38 AU)\n",
      "Heading: Orbit Period:\n",
      "Data: 687 days (1.9 years)\n",
      "Heading: Surface Temperature:\n",
      "Data: -87 to -5 °C\n",
      "Heading: First Record:\n",
      "Data: 2nd millennium BC\n",
      "Heading: Recorded By:\n",
      "Data: Egyptian astronomers\n",
      "Mars planet profile data has been successfully scraped and saved to mars_profile.xlsx.\n"
     ]
    }
   ],
   "source": [
    "from bs4 import BeautifulSoup\n",
    "import requests\n",
    "import pandas as pd\n",
    "\n",
    "def mars_profile(url):\n",
    "    headers = {\n",
    "        'User-Agent': 'Mozilla/5.0 (Windows NT 10.0; Win64; x64) AppleWebKit/537.36 (KHTML, like Gecko) Chrome/58.0.3029.110 Safari/537.3'}\n",
    "    response = requests.get(url, headers=headers)\n",
    "    if response.status_code == 200:\n",
    "        soup = BeautifulSoup(response.content, 'html.parser')\n",
    "\n",
    "        table = soup.find('table', id='tablepress-p-mars-no-2')\n",
    "\n",
    "        headings = []\n",
    "        data = []\n",
    "        for row in table.find_all('tr'):\n",
    "            cols = row.find_all('td')\n",
    "            heading_text = cols[0].text.strip()\n",
    "            data_text = cols[1].text.strip()\n",
    "            print(f'Heading: {heading_text}')\n",
    "            print(f'Data: {data_text}')\n",
    "            headings.append(cols[0].text.strip())\n",
    "            data.append(cols[1].text.strip())\n",
    "\n",
    "        return headings, data\n",
    "        \n",
    "    else:\n",
    "        print(\"Error:\", response.status_code)\n",
    "        return None, None\n",
    "\n",
    "url = \"https://space-facts.com/mars/\"\n",
    "\n",
    "headings, data = mars_profile(url)\n",
    "\n",
    "if headings and data:\n",
    "    mars_profile_df = pd.DataFrame(data, index=headings, columns=['Value '])\n",
    "\n",
    "    excel_file_path = 'mars_profile.xlsx'\n",
    "    \n",
    "    with open(excel_file_path, 'w', encoding='utf-8'):\n",
    "        with pd.ExcelWriter(excel_file_path, engine='openpyxl') as writer:\n",
    "            mars_profile_df.to_excel(writer)\n",
    "    \n",
    "    print(f'Mars planet profile data has been successfully scraped and saved to {excel_file_path}.')\n",
    "\n",
    "else:\n",
    "    print(\"Failed to scrape data.\")\n"
   ]
  },
  {
   "cell_type": "code",
   "execution_count": 29,
   "id": "58ab3af6-6ad5-4e48-943c-999eaf7fc8e3",
   "metadata": {},
   "outputs": [
    {
     "ename": "SyntaxError",
     "evalue": "invalid syntax (3277417328.py, line 1)",
     "output_type": "error",
     "traceback": [
      "\u001b[0;36m  Cell \u001b[0;32mIn[29], line 1\u001b[0;36m\u001b[0m\n\u001b[0;31m    git init\u001b[0m\n\u001b[0m        ^\u001b[0m\n\u001b[0;31mSyntaxError\u001b[0m\u001b[0;31m:\u001b[0m invalid syntax\n"
     ]
    }
   ],
   "source": []
  },
  {
   "cell_type": "code",
   "execution_count": null,
   "id": "aa33c61f-1a40-4b2c-860f-8ea83b49642e",
   "metadata": {},
   "outputs": [],
   "source": []
  }
 ],
 "metadata": {
  "kernelspec": {
   "display_name": "Python 3 (ipykernel)",
   "language": "python",
   "name": "python3"
  },
  "language_info": {
   "codemirror_mode": {
    "name": "ipython",
    "version": 3
   },
   "file_extension": ".py",
   "mimetype": "text/x-python",
   "name": "python",
   "nbconvert_exporter": "python",
   "pygments_lexer": "ipython3",
   "version": "3.11.7"
  }
 },
 "nbformat": 4,
 "nbformat_minor": 5
}
